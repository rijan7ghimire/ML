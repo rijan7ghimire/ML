{
 "cells": [
  {
   "cell_type": "code",
   "execution_count": null,
   "metadata": {
    "id": "N8X0kLGZ-j5v"
   },
   "outputs": [],
   "source": [
    "import numpy as np\n",
    "import pandas as pd\n",
    "import matplotlib.pyplot as plt\n",
    "import seaborn as sns\n",
    "from sklearn.metrics import confusion_matrix\n",
    "from sklearn.metrics import precision_recall_curve, average_precision_score\n",
    "from sklearn.metrics import roc_curve, auc"
   ]
  },
  {
   "cell_type": "code",
   "execution_count": null,
   "metadata": {
    "colab": {
     "base_uri": "https://localhost:8080/",
     "height": 356
    },
    "id": "rKHD_dTT_HhQ",
    "outputId": "abd6a16f-040b-4552-fddc-b1a60ccc9d7d"
   },
   "outputs": [],
   "source": [
    "#load the provided dataset into a dataframe\n",
    "df = pd.read_csv('mnist_train.csv')"
   ]
  },
  {
   "cell_type": "code",
   "execution_count": null,
   "metadata": {
    "id": "5sv-iPE5_Hr_"
   },
   "outputs": [],
   "source": [
    "#Convert the data given in the data frame into a NumPy array\n",
    "data = np.array(df)"
   ]
  },
  {
   "cell_type": "code",
   "execution_count": null,
   "metadata": {
    "id": "LzdWBihi_Hxo"
   },
   "outputs": [],
   "source": [
    "#Shape of the array\n",
    "shape_A= data.shape\n",
    "rows = shape_A[0]\n",
    "columns = shape_A[1]"
   ]
  },
  {
   "cell_type": "code",
   "execution_count": null,
   "metadata": {
    "id": "xQwTiCj7_H0I"
   },
   "outputs": [],
   "source": [
    "#Shuffle the contents of the array\n",
    "np.random.shuffle(data)\n",
    "S_df= pd.DataFrame(data)"
   ]
  },
  {
   "cell_type": "code",
   "execution_count": 16,
   "metadata": {
    "id": "vFOzKqqN_H2y"
   },
   "outputs": [],
   "source": [
    "from keras.datasets import mnist\n",
    "\n",
    "# Load MNIST dataset\n",
    "(train_images, train_labels), (test_images, test_labels) = mnist.load_data()\n",
    "\n",
    "# Count the occurrences of each class\n",
    "class_counts = np.bincount(train_labels)\n",
    "\n",
    "# Create a bar chart\n",
    "plt.figure(figsize=(10, 6))\n",
    "plt.bar(range(10), class_counts, tick_label=range(10))\n",
    "plt.xlabel('Class')\n",
    "plt.ylabel('Number of Samples')\n",
    "plt.title('Class Distribution in MNIST Dataset')\n",
    "\n",
    "plt.show()"
   ]
  },
  {
   "cell_type": "code",
   "execution_count": null,
   "metadata": {
    "id": "JkpT6Dmd_H40"
   },
   "outputs": [],
   "source": [
    "#Use the first 1000 images of the dataset as the test set\n",
    "test_data= data[0:2000]\n",
    "#Take the remaining rows as the train set\n",
    "train_data =data[2000:]\n",
    "\n",
    "#Split the train and test data and X and Y label\n",
    "X_train= train_data.T\n",
    "Y_train= X_train[0]\n",
    "X_train=X_train[1:,:]\n",
    "\n",
    "x_test = test_data.T\n",
    "y_test = x_test[0]\n",
    "x_test = x_test[1:,:]"
   ]
  },
  {
   "cell_type": "code",
   "execution_count": null,
   "metadata": {
    "id": "jgJUZibw_H61"
   },
   "outputs": [],
   "source": [
    "#Take the remaining rows as the features of the train set and Normalize the features\n",
    "X_train = X_train/255\n",
    "#Normalize the features values by dividing by 255\n",
    "x_test =  x_test/255"
   ]
  },
  {
   "cell_type": "code",
   "execution_count": null,
   "metadata": {
    "id": "QrATrzUB_H9K"
   },
   "outputs": [],
   "source": []
  },
  {
   "cell_type": "code",
   "execution_count": null,
   "metadata": {
    "id": "lQp904kP_H_c"
   },
   "outputs": [],
   "source": [
    "def initialize_w_b():\n",
    "    np.random.seed(42)\n",
    "    B1= np.zeros((200,1))\n",
    "    R1= np.random.uniform(low=-0.5, high = 0.5, size = (200,784))\n",
    "    B2= np.zeros((20,1))\n",
    "    R2= np.random.uniform(low=-0.5, high = 0.5, size = (20,200))\n",
    "    B3= np.zeros((10,1))\n",
    "    R3= np.random.uniform(low=-0.5, high = 0.5, size = (10,20))\n",
    "    return R1,R2,R3,B1,B2,B3"
   ]
  },
  {
   "cell_type": "code",
   "execution_count": null,
   "metadata": {},
   "outputs": [],
   "source": [
    "def kaiming_initialize_w_b():\n",
    "    \n",
    "    # Initialize biases\n",
    "    np.random.seed(51)\n",
    "    B1 = np.zeros((200, 1))\n",
    "    B2 = np.zeros((20, 1))\n",
    "    B3 = np.zeros((10, 1))\n",
    "    \n",
    "    # Kaiming initialization for weights\n",
    "    R1 = np.random.randn(200, 784) * np.sqrt(2 / 784)\n",
    "    R2 = np.random.randn(20, 200) * np.sqrt(2 / 200)\n",
    "    R3 = np.random.randn(10, 20) * np.sqrt(2 / 20)\n",
    "    \n",
    "    return R1, R2, R3, B1, B2, B3"
   ]
  },
  {
   "cell_type": "code",
   "execution_count": null,
   "metadata": {
    "id": "JnsWKuRK_IBq"
   },
   "outputs": [],
   "source": [
    "def LeakyRelu(Z,alpha):\n",
    "    \"\"\"\n",
    "    Compute the Leaky ReLU activation.\n",
    "\n",
    "    Arguments:\n",
    "    Z -- The linear output of a layer before applying the activation function.\n",
    "    alpha -- Slope of the negative part of the function (usually a small positive value).\n",
    "\n",
    "    Returns:\n",
    "    A -- The Leaky ReLU activation of Z.\n",
    "    \"\"\"\n",
    "    A = np.maximum(alpha * Z, Z)\n",
    "    return A"
   ]
  },
  {
   "cell_type": "code",
   "execution_count": null,
   "metadata": {
    "id": "02Qh3xLe_ID7"
   },
   "outputs": [],
   "source": [
    "def dRelu(Z,alpha):\n",
    "    dZ = np.ones_like(Z)\n",
    "    dZ[Z < 0] = alpha\n",
    "    return dZ"
   ]
  },
  {
   "cell_type": "code",
   "execution_count": null,
   "metadata": {},
   "outputs": [],
   "source": [
    "def tanh(x):\n",
    "    \"\"\"\n",
    "    Compute hyperbolic tangent (tanh) activation for a given input.\n",
    "\n",
    "    Arguments:\n",
    "    x -- Input value or array.\n",
    "\n",
    "    Returns:\n",
    "    tanh_value -- Tanh activation value(s).\n",
    "    \"\"\"\n",
    "    tanh_value = np.tanh(x)\n",
    "    return tanh_value"
   ]
  },
  {
   "cell_type": "code",
   "execution_count": null,
   "metadata": {},
   "outputs": [],
   "source": [
    "def tanh_derivative(x):\n",
    "    \"\"\"\n",
    "    Compute the derivative of hyperbolic tangent (tanh) function for a given input.\n",
    "\n",
    "    Arguments:\n",
    "    x -- Input value or array.\n",
    "\n",
    "    Returns:\n",
    "    tanh_derivative_value -- Derivative of tanh activation value(s).\n",
    "    \"\"\"\n",
    "    tanh_derivative_value = 1 - np.tanh(x)**2\n",
    "    return tanh_derivative_value"
   ]
  },
  {
   "cell_type": "code",
   "execution_count": null,
   "metadata": {},
   "outputs": [],
   "source": [
    "def sigmoid(x):\n",
    "    sigmoid_value = 1 / (1 + np.exp(-x))\n",
    "    return sigmoid_value"
   ]
  },
  {
   "cell_type": "code",
   "execution_count": null,
   "metadata": {},
   "outputs": [],
   "source": [
    "def dsigmoid(x):\n",
    "    return sigmoid(x) * (1 - sigmoid(x))"
   ]
  },
  {
   "cell_type": "code",
   "execution_count": null,
   "metadata": {
    "id": "bNrNbqp__IF4"
   },
   "outputs": [],
   "source": [
    "def softmax(x):\n",
    "    \"\"\"Compute softmax values for each sets of scores in x.\"\"\"\n",
    "    e_x = np.exp(x - np.max(x))\n",
    "    return e_x / e_x.sum()"
   ]
  },
  {
   "cell_type": "code",
   "execution_count": null,
   "metadata": {},
   "outputs": [],
   "source": [
    "def softmax_derivative(z):\n",
    "    # Calculate the softmax function\n",
    "    exp_z = np.exp(z)\n",
    "    softmax = exp_z / np.sum(exp_z, axis=0, keepdims=True)\n",
    "    \n",
    "    # Calculate the derivative of softmax\n",
    "    derivative = softmax * (1 - softmax)\n",
    "    \n",
    "    return derivative"
   ]
  },
  {
   "cell_type": "code",
   "execution_count": null,
   "metadata": {
    "id": "Uckx_onN_IJd"
   },
   "outputs": [],
   "source": [
    "def forward_propagation(X,W_1,B_1,W_2,B_2,W3,B3,alpha):\n",
    "    Z_1 = np.dot(W_1,X)+ B_1\n",
    "    A1  = LeakyRelu(Z_1,alpha)\n",
    "    Z_2 = np.dot(W_2,A1)+ B_2\n",
    "    A2  = tanh(Z_2)\n",
    "    Z3 = np.dot(W3, A2) +  B3\n",
    "    A3 = softmax(Z3)\n",
    "    return Z_1,A1,Z_2,A2,Z3,A3"
   ]
  },
  {
   "cell_type": "code",
   "execution_count": null,
   "metadata": {
    "id": "BW87_louQ0TS"
   },
   "outputs": [],
   "source": [
    "def one_hot_encoding(Y_train, num_classes):\n",
    "    num_samples = len(Y_train)\n",
    "    one_hot_matrix = np.zeros((num_samples, num_classes))\n",
    "\n",
    "    for i in range(num_samples):\n",
    "        class_index = int(Y_train[i])\n",
    "        one_hot_matrix[i,class_index] = 1\n",
    "\n",
    "    return one_hot_matrix"
   ]
  },
  {
   "cell_type": "code",
   "execution_count": null,
   "metadata": {
    "id": "Xq0eH3piQ0V-"
   },
   "outputs": [],
   "source": [
    "def backward_propagation(Z1, A1, Z2, A2, Z3,A3,W1,W2,W3, X_train, Y_train, alpha,lambda_reg=0.01):\n",
    "    m = X_train.shape[1]  # Number of samples\n",
    "    #A3= np.clip(A3,1e-9,1-1e-9)\n",
    "    dZ3 = A3 - Y_train\n",
    "    dW3 = (1 / m) * np.dot(dZ3, A2.T)+ (lambda_reg / m) * W3  # L2 regularization term added\n",
    "    db3 = (1 / m) * np.sum(dZ3, axis=1, keepdims=True)\n",
    "    \n",
    "    dZ2 = np.dot(W3.T,dZ3) *tanh_derivative(Z2) \n",
    "    dW2 = (1 / m) * np.dot(dZ2, A1.T)+ (lambda_reg / m) * W2  # L2 regularization term added\n",
    "    db2 = (1 / m) * np.sum(dZ2, axis=1, keepdims=True)\n",
    "    \n",
    "    dZ1 = np.dot(W2.T,dZ2) *dRelu(Z1,alpha) \n",
    "    dW1 = (1 / m) * np.dot(dZ1,X_train.T)+ (lambda_reg / m) * W1  # L2 regularization term added\n",
    "    db1 = (1 / m) * np.sum(dZ1, axis=1, keepdims=True)\n",
    "    \n",
    "    \n",
    "    \n",
    "\n",
    "    return dW1, db1, dW2, db2,dW3,db3"
   ]
  },
  {
   "cell_type": "code",
   "execution_count": null,
   "metadata": {},
   "outputs": [],
   "source": []
  },
  {
   "cell_type": "code",
   "execution_count": null,
   "metadata": {
    "id": "_b-1aUIOec6t"
   },
   "outputs": [
    {
     "data": {
      "image/png": "[encoded data removed]",
      "text/plain": [
       "<Figure size 640x480 with 1 Axes>"
      ]
     },
     "metadata": {},
     "output_type": "display_data"
    }
   ],
   "source": [
    "numbers = np.linspace(-10, 10, 200)\n",
    "plt.plot(numbers,LeakyRelu(numbers,.01))\n",
    "plt.show()"
   ]
  },
  {
   "cell_type": "code",
   "execution_count": null,
   "metadata": {
    "id": "KXk_G75nZ3V6"
   },
   "outputs": [],
   "source": [
    "def update_parameters(W1, b1, W2, b2,W3,b3, dW1, db1, dW2, db2,dW3,db3, learning_rate):\n",
    "    W1 = W1 - learning_rate * dW1\n",
    "    b1 = b1 - learning_rate * db1\n",
    "    W2 = W2 - learning_rate * dW2\n",
    "    b2 = b2 - learning_rate * db2\n",
    "    W3 = W3 - learning_rate * dW3\n",
    "    b3 = b3 - learning_rate * db3\n",
    "\n",
    "    return W1, b1, W2, b2,W3,b3"
   ]
  },
  {
   "cell_type": "code",
   "execution_count": null,
   "metadata": {
    "id": "JUB7q5oQbw1n"
   },
   "outputs": [],
   "source": [
    "def calculate_accuracy(predictions, Y_train):\n",
    "    num_samples = Y_train.shape[1]\n",
    "    actual_labels = np.argmax(Y_train, axis=0)\n",
    "    num_correct = np.sum(predictions == actual_labels)\n",
    "    accuracy = num_correct / num_samples\n",
    "    return accuracy"
   ]
  },
  {
   "cell_type": "code",
   "execution_count": null,
   "metadata": {},
   "outputs": [
    {
     "data": {
      "text/plain": [
       "()"
      ]
     },
     "execution_count": 453,
     "metadata": {},
     "output_type": "execute_result"
    }
   ],
   "source": [
    "predicted_labels = np.argmax(Y_train, axis=0)\n",
    "predicted_labels.shape"
   ]
  },
  {
   "cell_type": "code",
   "execution_count": null,
   "metadata": {},
   "outputs": [],
   "source": []
  },
  {
   "cell_type": "code",
   "execution_count": null,
   "metadata": {
    "id": "9LbM2NdwcU0i"
   },
   "outputs": [],
   "source": [
    "def gradient_descent(X_train, Y_train, learning_rate, num_iterations):\n",
    "    num_features = X_train.shape[0]\n",
    "    num_samples = X_train.shape[1]\n",
    "    num_classes = Y_train.shape[0]\n",
    "\n",
    "    W1,W2,W3,b1,b2,b3 = initialize_w_b()  #kaiming_initialize_w_b()\n",
    "    accuracy_scores = []\n",
    "\n",
    "    for i in range(num_iterations):\n",
    "        # Forward Propagation\n",
    "        Z1, A1, Z2, A2,Z3,A3 = forward_propagation(X_train, W1, b1, W2, b2,W3,b3,learning_rate)\n",
    "        #print(A3)\n",
    "        # Backward Propagation\n",
    "        dW1, db1, dW2, db2,dW3,db3 = backward_propagation(Z1, A1, Z2, A2, Z3 , A3,W1,W2,W3, X_train, Y_train,learning_rate)\n",
    "        #print(dW1)\n",
    "        # Update Parameters\n",
    "        W1, b1, W2, b2, W3, b3  = update_parameters(W1, b1, W2, b2,W3,b3, dW1, db1, dW2, db2,dW3,db3, learning_rate)\n",
    "        \n",
    "        # Calculate Accuracy\n",
    "        if i % 5 == 0:\n",
    "            A3_reshaped = A3.T\n",
    "            predictions = get_predictions(A3_reshaped)\n",
    "            accuracy = calculate_accuracy(predictions, Y_train)\n",
    "            accuracy_scores.append((i, accuracy))\n",
    "            #print(W2)\n",
    "            print(f\"Iteration {i}, Accuracy: {accuracy}\")\n",
    "\n",
    "    return W1, b1, W2, b2,W3,b3, accuracy_scores"
   ]
  },
  {
   "cell_type": "code",
   "execution_count": null,
   "metadata": {
    "id": "wlZJ5vasu89h"
   },
   "outputs": [],
   "source": [
    "A3_reshaped = A3.T\n",
    "predictions = get_predictions(A3_reshaped)"
   ]
  },
  {
   "cell_type": "code",
   "execution_count": null,
   "metadata": {
    "id": "cVzw7ZxPudXB"
   },
   "outputs": [],
   "source": [
    "Z1, A1, Z2, A2,Z3, A3 = forward_propagation(x_test,W1, b1, W2, b2,W3,b3,learning_rate) "
   ]
  },
  {
   "cell_type": "code",
   "execution_count": null,
   "metadata": {},
   "outputs": [],
   "source": [
    "num_samples = y_test.shape[1]\n",
    "actual_labels = np.argmax(y_test, axis=0)\n",
    "num_correct = np.sum(predictions == actual_labels)\n",
    "accuracy = num_correct / num_samples"
   ]
  },
  {
   "cell_type": "code",
   "execution_count": null,
   "metadata": {},
   "outputs": [
    {
     "data": {
      "image/png": "[encoded data removed]",
      "text/plain": [
       "<Figure size 640x480 with 1 Axes>"
      ]
     },
     "metadata": {},
     "output_type": "display_data"
    }
   ],
   "source": [
    "# Convert predicted scores to one-hot encoded probabilities\n",
    "num_classes = len(np.unique(actual_labels))\n",
    "predicted_probabilities = np.zeros((len(actual_labels), num_classes))\n",
    "predicted_probabilities[np.arange(len(actual_labels)), predictions] = 1\n",
    "\n",
    "# Compute ROC curves for each class\n",
    "plt.figure()\n",
    "for class_index in range(num_classes):\n",
    "    fpr, tpr, _ = roc_curve((actual_labels == class_index).astype(int), predicted_probabilities[:, class_index])\n",
    "    roc_auc = auc(fpr, tpr)\n",
    "    plt.plot(fpr, tpr, lw=2, label=f' {class_index} (AUC = {roc_auc:.2f})')\n",
    "\n",
    "# Plot settings\n",
    "plt.plot([0, 1], [0, 1], color='navy', lw=2, linestyle='--')\n",
    "plt.xlim([0.0, 1.0])\n",
    "plt.ylim([0.0, 1.05])\n",
    "plt.xlabel('False Positive Rate')\n",
    "plt.ylabel('True Positive Rate')\n",
    "plt.title('ROC Curves')\n",
    "plt.legend(loc=\"lower right\")\n",
    "plt.grid(True)\n",
    "#plt.savefig('ROCRandominiL2xx60k')\n",
    "plt.show()"
   ]
  },
  {
   "cell_type": "code",
   "execution_count": null,
   "metadata": {},
   "outputs": [
    {
     "data": {
      "image/png": "[encoded data removed]",
      "text/plain": [
       "<Figure size 800x600 with 1 Axes>"
      ]
     },
     "metadata": {},
     "output_type": "display_data"
    }
   ],
   "source": [
    "# Create a confusion matrix\n",
    "cm = confusion_matrix(actual_labels, predictions)\n",
    "\n",
    "# Create a heatmap for the confusion matrix\n",
    "plt.figure(figsize=(8, 6))\n",
    "sns.heatmap(cm, annot=True, fmt=\"d\", cmap=\"Blues\", cbar=False)\n",
    "plt.xlabel('Predicted Labels')\n",
    "plt.ylabel('True Labels')\n",
    "plt.title('Confusion Matrix')\n",
    "#plt.savefig('ConfusionMatrixRandominiL2xx60k')\n",
    "plt.show() "
   ]
  },
  {
   "cell_type": "code",
   "execution_count": null,
   "metadata": {},
   "outputs": [],
   "source": []
  },
  {
   "cell_type": "code",
   "execution_count": null,
   "metadata": {
    "id": "mwsciMM_aWMw"
   },
   "outputs": [],
   "source": [
    "def get_predictions(output_vector):\n",
    "    max_index = np.argmax(output_vector, axis=1)\n",
    "    return max_index"
   ]
  },
  {
   "cell_type": "code",
   "execution_count": null,
   "metadata": {
    "id": "7e06GbxOexi-"
   },
   "outputs": [],
   "source": [
    "def make_prediction(test_vector, W1, b1, W2, b2,W3,b3, index,alpha):\n",
    "    # Assuming you have functions to preprocess test_vector if needed\n",
    "    num_classes= b3.shape[0]\n",
    "    # Forward Propagation\n",
    "    Z1, A1, Z2, A2,Z3,A3  = forward_propagation(test_vector, W1, b1, W2, b2,W3,b3,alpha)\n",
    "\n",
    "    # Obtain Predictions\n",
    "    A3_reshaped = A3.T\n",
    "    predictions = get_predictions(A3_reshaped)\n",
    "\n",
    "    return predictions"
   ]
  },
  {
   "cell_type": "code",
   "execution_count": null,
   "metadata": {},
   "outputs": [
    {
     "data": {
      "text/plain": [
       "array([[0., 0., 0., ..., 0., 0., 0.],\n",
       "       [0., 0., 0., ..., 0., 0., 0.],\n",
       "       [0., 1., 0., ..., 0., 1., 0.],\n",
       "       ...,\n",
       "       [0., 0., 0., ..., 0., 0., 0.],\n",
       "       [0., 0., 0., ..., 0., 0., 0.],\n",
       "       [0., 0., 0., ..., 0., 0., 0.]])"
      ]
     },
     "execution_count": 13,
     "metadata": {},
     "output_type": "execute_result"
    }
   ],
   "source": [
    "Y_train"
   ]
  },
  {
   "cell_type": "code",
   "execution_count": null,
   "metadata": {
    "id": "MpqkyfkWePmu"
   },
   "outputs": [],
   "source": [
    "y_test = np.array(one_hot_encoding(y_test, num_classes))\n",
    "\n",
    "y_test= y_test.T\n",
    "\n",
    "Y_train = np.array(one_hot_encoding(Y_train, num_classes))\n",
    "\n",
    "Y_train= Y_train.T"
   ]
  },
  {
   "cell_type": "code",
   "execution_count": null,
   "metadata": {
    "id": "giyCMmYjfmW4"
   },
   "outputs": [],
   "source": [
    "def test_prediction(index, W1, b1, W2, b2,W3,b3, x_test, y_test,alpha):\n",
    "    # Retrieve the test image based on the index\n",
    "    test_image = x_test.T[index]\n",
    "\n",
    "    # Make a prediction using the make_prediction function\n",
    "    prediction = make_prediction(x_test, W1, b1, W2, b2,W3,b3,index,alpha)\n",
    "\n",
    "    # Find the actual label from the ground truth Y_train vector\n",
    "    actual_label = np.argmax(y_test.T[index])\n",
    "\n",
    "    # Reshape and plot the test image\n",
    "    plt.imshow(test_image.reshape((28, 28)), cmap='gray')  # Assuming MNIST-like 28x28 images\n",
    "    plt.title(f\"Predicted: {prediction[index]}, Actual: {actual_label}\")\n",
    "    plt.axis('off')\n",
    "    plt.savefig('preditions fig7')\n",
    "    plt.show()"
   ]
  },
  {
   "cell_type": "code",
   "execution_count": null,
   "metadata": {
    "id": "a_m7WyQTQ0Yi"
   },
   "outputs": [],
   "source": [
    "num_classes= 10\n",
    "learning_rate= 0.09\n",
    "num_iterations =5000"
   ]
  },
  {
   "cell_type": "code",
   "execution_count": null,
   "metadata": {
    "id": "LuDpSgBzrPp6"
   },
   "outputs": [
    {
     "data": {
      "image/png": "[encoded data removed]",
      "text/plain": [
       "<Figure size 640x480 with 1 Axes>"
      ]
     },
     "metadata": {},
     "output_type": "display_data"
    }
   ],
   "source": [
    "test_prediction(3, W1, b1, W2, b2, W3, b3, x_test, y_test,learning_rate)"
   ]
  },
  {
   "cell_type": "code",
   "execution_count": null,
   "metadata": {
    "id": "E5llWp1Mg_J6"
   },
   "outputs": [
    {
     "name": "stdout",
     "output_type": "stream",
     "text": [
      "Iteration 0, Accuracy: 0.10386206896551724\n",
      "Iteration 5, Accuracy: 0.1528448275862069\n",
      "Iteration 10, Accuracy: 0.1899655172413793\n",
      "Iteration 15, Accuracy: 0.22375862068965519\n",
      "Iteration 20, Accuracy: 0.24879310344827585\n",
      "Iteration 25, Accuracy: 0.2689655172413793\n",
      "Iteration 30, Accuracy: 0.2812586206896552\n",
      "Iteration 35, Accuracy: 0.29594827586206895\n",
      "Iteration 40, Accuracy: 0.3102241379310345\n",
      "Iteration 45, Accuracy: 0.3248448275862069\n",
      "Iteration 50, Accuracy: 0.3406206896551724\n",
      "Iteration 55, Accuracy: 0.3611896551724138\n",
      "Iteration 60, Accuracy: 0.38932758620689656\n",
      "Iteration 65, Accuracy: 0.41101724137931034\n",
      "Iteration 70, Accuracy: 0.42632758620689654\n",
      "Iteration 75, Accuracy: 0.43810344827586206\n",
      "Iteration 80, Accuracy: 0.4483448275862069\n",
      "Iteration 85, Accuracy: 0.45663793103448275\n",
      "Iteration 90, Accuracy: 0.4645344827586207\n",
      "Iteration 95, Accuracy: 0.4708103448275862\n",
      "Iteration 100, Accuracy: 0.4766896551724138\n",
      "Iteration 105, Accuracy: 0.48279310344827586\n",
      "Iteration 110, Accuracy: 0.4876896551724138\n",
      "Iteration 115, Accuracy: 0.49298275862068963\n",
      "Iteration 120, Accuracy: 0.4978448275862069\n",
      "Iteration 125, Accuracy: 0.5020862068965517\n",
      "Iteration 130, Accuracy: 0.5063448275862069\n",
      "Iteration 135, Accuracy: 0.5097931034482759\n",
      "Iteration 140, Accuracy: 0.5127758620689655\n",
      "Iteration 145, Accuracy: 0.5159482758620689\n",
      "Iteration 150, Accuracy: 0.5195344827586207\n",
      "Iteration 155, Accuracy: 0.5223620689655173\n",
      "Iteration 160, Accuracy: 0.525896551724138\n",
      "Iteration 165, Accuracy: 0.5286551724137931\n",
      "Iteration 170, Accuracy: 0.531\n",
      "Iteration 175, Accuracy: 0.5333620689655172\n",
      "Iteration 180, Accuracy: 0.5353965517241379\n",
      "Iteration 185, Accuracy: 0.537603448275862\n",
      "Iteration 190, Accuracy: 0.5397068965517241\n",
      "Iteration 195, Accuracy: 0.5417413793103448\n",
      "Iteration 200, Accuracy: 0.5439310344827586\n",
      "Iteration 205, Accuracy: 0.5455517241379311\n",
      "Iteration 210, Accuracy: 0.5474655172413793\n",
      "Iteration 215, Accuracy: 0.5493103448275862\n",
      "Iteration 220, Accuracy: 0.5510689655172414\n",
      "Iteration 225, Accuracy: 0.5525517241379311\n",
      "Iteration 230, Accuracy: 0.5536896551724138\n",
      "Iteration 235, Accuracy: 0.5548793103448276\n",
      "Iteration 240, Accuracy: 0.5559310344827586\n",
      "Iteration 245, Accuracy: 0.5574137931034483\n",
      "Iteration 250, Accuracy: 0.5588275862068965\n",
      "Iteration 255, Accuracy: 0.5599310344827586\n",
      "Iteration 260, Accuracy: 0.5611724137931035\n",
      "Iteration 265, Accuracy: 0.5624655172413793\n",
      "Iteration 270, Accuracy: 0.5633793103448276\n",
      "Iteration 275, Accuracy: 0.5645\n",
      "Iteration 280, Accuracy: 0.5654310344827587\n",
      "Iteration 285, Accuracy: 0.5666896551724138\n",
      "Iteration 290, Accuracy: 0.6125\n",
      "Iteration 295, Accuracy: 0.6168275862068966\n",
      "Iteration 300, Accuracy: 0.6191551724137931\n",
      "Iteration 305, Accuracy: 0.6208965517241379\n",
      "Iteration 310, Accuracy: 0.6228448275862069\n",
      "Iteration 315, Accuracy: 0.6248448275862069\n",
      "Iteration 320, Accuracy: 0.6246379310344827\n",
      "Iteration 325, Accuracy: 0.624448275862069\n",
      "Iteration 330, Accuracy: 0.6256551724137931\n",
      "Iteration 335, Accuracy: 0.6274655172413793\n",
      "Iteration 340, Accuracy: 0.6287586206896552\n",
      "Iteration 345, Accuracy: 0.630551724137931\n",
      "Iteration 350, Accuracy: 0.632551724137931\n",
      "Iteration 355, Accuracy: 0.6349482758620689\n",
      "Iteration 360, Accuracy: 0.638448275862069\n",
      "Iteration 365, Accuracy: 0.6398448275862069\n",
      "Iteration 370, Accuracy: 0.6410689655172414\n",
      "Iteration 375, Accuracy: 0.6422931034482758\n",
      "Iteration 380, Accuracy: 0.643603448275862\n",
      "Iteration 385, Accuracy: 0.6449655172413793\n",
      "Iteration 390, Accuracy: 0.6468448275862069\n",
      "Iteration 395, Accuracy: 0.6726724137931035\n",
      "Iteration 400, Accuracy: 0.6767931034482758\n",
      "Iteration 405, Accuracy: 0.6777413793103448\n",
      "Iteration 410, Accuracy: 0.6864827586206896\n",
      "Iteration 415, Accuracy: 0.6696896551724137\n",
      "Iteration 420, Accuracy: 0.692551724137931\n",
      "Iteration 425, Accuracy: 0.6736551724137931\n",
      "Iteration 430, Accuracy: 0.6929655172413793\n",
      "Iteration 435, Accuracy: 0.6795\n",
      "Iteration 440, Accuracy: 0.696051724137931\n",
      "Iteration 445, Accuracy: 0.6830862068965518\n",
      "Iteration 450, Accuracy: 0.698551724137931\n",
      "Iteration 455, Accuracy: 0.6863103448275862\n",
      "Iteration 460, Accuracy: 0.7011206896551724\n",
      "Iteration 465, Accuracy: 0.6877931034482758\n",
      "Iteration 470, Accuracy: 0.7034827586206897\n",
      "Iteration 475, Accuracy: 0.6888103448275862\n",
      "Iteration 480, Accuracy: 0.7047586206896552\n",
      "Iteration 485, Accuracy: 0.6878275862068965\n",
      "Iteration 490, Accuracy: 0.7055862068965517\n",
      "Iteration 495, Accuracy: 0.6921379310344827\n",
      "Iteration 500, Accuracy: 0.7072586206896552\n",
      "Iteration 505, Accuracy: 0.6997931034482758\n",
      "Iteration 510, Accuracy: 0.7088965517241379\n",
      "Iteration 515, Accuracy: 0.7011206896551724\n",
      "Iteration 520, Accuracy: 0.7139827586206896\n",
      "Iteration 525, Accuracy: 0.6911551724137931\n",
      "Iteration 530, Accuracy: 0.7132241379310345\n",
      "Iteration 535, Accuracy: 0.696551724137931\n",
      "Iteration 540, Accuracy: 0.7093793103448276\n",
      "Iteration 545, Accuracy: 0.7051896551724138\n",
      "Iteration 550, Accuracy: 0.7143448275862069\n",
      "Iteration 555, Accuracy: 0.7092068965517241\n",
      "Iteration 560, Accuracy: 0.7186206896551725\n",
      "Iteration 565, Accuracy: 0.7006724137931034\n",
      "Iteration 570, Accuracy: 0.72\n",
      "Iteration 575, Accuracy: 0.7007413793103449\n",
      "Iteration 580, Accuracy: 0.7166379310344828\n",
      "Iteration 585, Accuracy: 0.7116551724137931\n",
      "Iteration 590, Accuracy: 0.7197241379310345\n",
      "Iteration 595, Accuracy: 0.7173793103448276\n",
      "Iteration 600, Accuracy: 0.722448275862069\n",
      "Iteration 605, Accuracy: 0.7150172413793103\n",
      "Iteration 610, Accuracy: 0.7254137931034482\n",
      "Iteration 615, Accuracy: 0.6976206896551724\n",
      "Iteration 620, Accuracy: 0.7212931034482759\n",
      "Iteration 625, Accuracy: 0.7160862068965517\n",
      "Iteration 630, Accuracy: 0.7251206896551724\n",
      "Iteration 635, Accuracy: 0.7238620689655172\n",
      "Iteration 640, Accuracy: 0.7273620689655172\n",
      "Iteration 645, Accuracy: 0.7235689655172414\n",
      "Iteration 650, Accuracy: 0.7300172413793103\n",
      "Iteration 655, Accuracy: 0.7118103448275862\n",
      "Iteration 660, Accuracy: 0.728551724137931\n",
      "Iteration 665, Accuracy: 0.7168103448275862\n",
      "Iteration 670, Accuracy: 0.7314655172413793\n",
      "Iteration 675, Accuracy: 0.7275862068965517\n",
      "Iteration 680, Accuracy: 0.7334827586206897\n",
      "Iteration 685, Accuracy: 0.7273448275862069\n",
      "Iteration 690, Accuracy: 0.7359827586206896\n",
      "Iteration 695, Accuracy: 0.7200689655172414\n",
      "Iteration 700, Accuracy: 0.7314310344827586\n",
      "Iteration 705, Accuracy: 0.721396551724138\n",
      "Iteration 710, Accuracy: 0.7352413793103448\n",
      "Iteration 715, Accuracy: 0.7334655172413793\n",
      "Iteration 720, Accuracy: 0.7374310344827586\n",
      "Iteration 725, Accuracy: 0.7334310344827586\n",
      "Iteration 730, Accuracy: 0.740551724137931\n",
      "Iteration 735, Accuracy: 0.7238103448275862\n",
      "Iteration 740, Accuracy: 0.737551724137931\n",
      "Iteration 745, Accuracy: 0.7300344827586207\n",
      "Iteration 750, Accuracy: 0.7394137931034482\n",
      "Iteration 755, Accuracy: 0.7392758620689656\n",
      "Iteration 760, Accuracy: 0.7384827586206897\n",
      "Iteration 765, Accuracy: 0.7408448275862068\n",
      "Iteration 770, Accuracy: 0.7308620689655172\n",
      "Iteration 775, Accuracy: 0.739448275862069\n",
      "Iteration 780, Accuracy: 0.740103448275862\n",
      "Iteration 785, Accuracy: 0.740551724137931\n",
      "Iteration 790, Accuracy: 0.7445862068965517\n",
      "Iteration 795, Accuracy: 0.7398448275862068\n",
      "Iteration 800, Accuracy: 0.7465344827586207\n",
      "Iteration 805, Accuracy: 0.7288793103448276\n",
      "Iteration 810, Accuracy: 0.7462068965517241\n",
      "Iteration 815, Accuracy: 0.7421896551724138\n",
      "Iteration 820, Accuracy: 0.7473620689655173\n",
      "Iteration 825, Accuracy: 0.7474310344827586\n",
      "Iteration 830, Accuracy: 0.7473965517241379\n",
      "Iteration 835, Accuracy: 0.7459482758620689\n",
      "Iteration 840, Accuracy: 0.7352068965517241\n",
      "Iteration 845, Accuracy: 0.7449827586206896\n",
      "Iteration 850, Accuracy: 0.7482241379310345\n",
      "Iteration 855, Accuracy: 0.7495344827586207\n",
      "Iteration 860, Accuracy: 0.7527068965517242\n",
      "Iteration 865, Accuracy: 0.7434310344827586\n",
      "Iteration 870, Accuracy: 0.7505172413793103\n",
      "Iteration 875, Accuracy: 0.737103448275862\n",
      "Iteration 880, Accuracy: 0.7516896551724138\n",
      "Iteration 885, Accuracy: 0.7521379310344828\n",
      "Iteration 890, Accuracy: 0.7549137931034483\n",
      "Iteration 895, Accuracy: 0.7527758620689655\n",
      "Iteration 900, Accuracy: 0.7561206896551724\n",
      "Iteration 905, Accuracy: 0.7443275862068965\n",
      "Iteration 910, Accuracy: 0.7527413793103448\n",
      "Iteration 915, Accuracy: 0.7487758620689655\n",
      "Iteration 920, Accuracy: 0.7571551724137932\n",
      "Iteration 925, Accuracy: 0.7561724137931034\n",
      "Iteration 930, Accuracy: 0.7597241379310344\n",
      "Iteration 935, Accuracy: 0.751551724137931\n",
      "Iteration 940, Accuracy: 0.7579482758620689\n",
      "Iteration 945, Accuracy: 0.7488793103448276\n",
      "Iteration 950, Accuracy: 0.7543448275862069\n",
      "Iteration 955, Accuracy: 0.7588103448275862\n",
      "Iteration 960, Accuracy: 0.7559137931034483\n",
      "Iteration 965, Accuracy: 0.7622931034482758\n",
      "Iteration 970, Accuracy: 0.7542068965517241\n",
      "Iteration 975, Accuracy: 0.7630862068965517\n",
      "Iteration 980, Accuracy: 0.7523620689655173\n",
      "Iteration 985, Accuracy: 0.7618793103448276\n",
      "Iteration 990, Accuracy: 0.7578103448275862\n",
      "Iteration 995, Accuracy: 0.7586034482758621\n",
      "Iteration 1000, Accuracy: 0.7615172413793103\n",
      "Iteration 1005, Accuracy: 0.7578793103448276\n",
      "Iteration 1010, Accuracy: 0.7642758620689655\n",
      "Iteration 1015, Accuracy: 0.7648275862068965\n",
      "Iteration 1020, Accuracy: 0.767448275862069\n",
      "Iteration 1025, Accuracy: 0.7646896551724138\n",
      "Iteration 1030, Accuracy: 0.7705344827586207\n",
      "Iteration 1035, Accuracy: 0.7579655172413793\n",
      "Iteration 1040, Accuracy: 0.7746379310344828\n",
      "Iteration 1045, Accuracy: 0.7659827586206897\n",
      "Iteration 1050, Accuracy: 0.8445344827586206\n",
      "Iteration 1055, Accuracy: 0.8206551724137932\n",
      "Iteration 1060, Accuracy: 0.8335344827586207\n",
      "Iteration 1065, Accuracy: 0.826\n",
      "Iteration 1070, Accuracy: 0.8441206896551724\n",
      "Iteration 1075, Accuracy: 0.8430689655172414\n",
      "Iteration 1080, Accuracy: 0.847448275862069\n",
      "Iteration 1085, Accuracy: 0.8385862068965517\n",
      "Iteration 1090, Accuracy: 0.8492413793103448\n",
      "Iteration 1095, Accuracy: 0.833655172413793\n",
      "Iteration 1100, Accuracy: 0.8466034482758621\n",
      "Iteration 1105, Accuracy: 0.8386551724137931\n",
      "Iteration 1110, Accuracy: 0.8480172413793103\n",
      "Iteration 1115, Accuracy: 0.8453275862068965\n",
      "Iteration 1120, Accuracy: 0.8509137931034483\n",
      "Iteration 1125, Accuracy: 0.8405344827586206\n",
      "Iteration 1130, Accuracy: 0.8511206896551724\n",
      "Iteration 1135, Accuracy: 0.829103448275862\n",
      "Iteration 1140, Accuracy: 0.8512758620689655\n",
      "Iteration 1145, Accuracy: 0.8462586206896552\n",
      "Iteration 1150, Accuracy: 0.8510689655172414\n",
      "Iteration 1155, Accuracy: 0.8451896551724138\n",
      "Iteration 1160, Accuracy: 0.8378620689655173\n",
      "Iteration 1165, Accuracy: 0.8389655172413794\n",
      "Iteration 1170, Accuracy: 0.8393620689655172\n",
      "Iteration 1175, Accuracy: 0.8537413793103448\n",
      "Iteration 1180, Accuracy: 0.849551724137931\n",
      "Iteration 1185, Accuracy: 0.8551206896551724\n",
      "Iteration 1190, Accuracy: 0.8446896551724138\n",
      "Iteration 1195, Accuracy: 0.853948275862069\n",
      "Iteration 1200, Accuracy: 0.8393275862068965\n",
      "Iteration 1205, Accuracy: 0.8553793103448276\n",
      "Iteration 1210, Accuracy: 0.846103448275862\n",
      "Iteration 1215, Accuracy: 0.8495344827586206\n",
      "Iteration 1220, Accuracy: 0.8461206896551724\n",
      "Iteration 1225, Accuracy: 0.854396551724138\n",
      "Iteration 1230, Accuracy: 0.854844827586207\n",
      "Iteration 1235, Accuracy: 0.8531379310344828\n",
      "Iteration 1240, Accuracy: 0.8552068965517241\n",
      "Iteration 1245, Accuracy: 0.8516034482758621\n",
      "Iteration 1250, Accuracy: 0.8528448275862069\n",
      "Iteration 1255, Accuracy: 0.8535862068965517\n",
      "Iteration 1260, Accuracy: 0.831\n",
      "Iteration 1265, Accuracy: 0.8563793103448276\n",
      "Iteration 1270, Accuracy: 0.8522586206896552\n",
      "Iteration 1275, Accuracy: 0.8584137931034482\n",
      "Iteration 1280, Accuracy: 0.8560172413793103\n",
      "Iteration 1285, Accuracy: 0.8586724137931034\n",
      "Iteration 1290, Accuracy: 0.8476724137931034\n",
      "Iteration 1295, Accuracy: 0.8550689655172414\n",
      "Iteration 1300, Accuracy: 0.8454655172413793\n",
      "Iteration 1305, Accuracy: 0.8579137931034483\n",
      "Iteration 1310, Accuracy: 0.8494310344827586\n",
      "Iteration 1315, Accuracy: 0.8561551724137931\n",
      "Iteration 1320, Accuracy: 0.8570344827586207\n",
      "Iteration 1325, Accuracy: 0.8590172413793103\n",
      "Iteration 1330, Accuracy: 0.8590689655172414\n",
      "Iteration 1335, Accuracy: 0.8584137931034482\n",
      "Iteration 1340, Accuracy: 0.8529310344827586\n",
      "Iteration 1345, Accuracy: 0.853396551724138\n",
      "Iteration 1350, Accuracy: 0.8437068965517242\n",
      "Iteration 1355, Accuracy: 0.8614137931034482\n",
      "Iteration 1360, Accuracy: 0.8561551724137931\n",
      "Iteration 1365, Accuracy: 0.8616206896551725\n",
      "Iteration 1370, Accuracy: 0.8565\n",
      "Iteration 1375, Accuracy: 0.8624137931034482\n",
      "Iteration 1380, Accuracy: 0.8523275862068965\n",
      "Iteration 1385, Accuracy: 0.861103448275862\n",
      "Iteration 1390, Accuracy: 0.851448275862069\n",
      "Iteration 1395, Accuracy: 0.860844827586207\n",
      "Iteration 1400, Accuracy: 0.861\n",
      "Iteration 1405, Accuracy: 0.8615344827586207\n",
      "Iteration 1410, Accuracy: 0.8620862068965517\n",
      "Iteration 1415, Accuracy: 0.8607931034482759\n",
      "Iteration 1420, Accuracy: 0.8577068965517242\n",
      "Iteration 1425, Accuracy: 0.8550172413793103\n",
      "Iteration 1430, Accuracy: 0.8449137931034483\n",
      "Iteration 1435, Accuracy: 0.864103448275862\n",
      "Iteration 1440, Accuracy: 0.8592068965517241\n",
      "Iteration 1445, Accuracy: 0.8647931034482759\n",
      "Iteration 1450, Accuracy: 0.8617068965517242\n",
      "Iteration 1455, Accuracy: 0.865396551724138\n",
      "Iteration 1460, Accuracy: 0.8588793103448276\n",
      "Iteration 1465, Accuracy: 0.8604827586206897\n",
      "Iteration 1470, Accuracy: 0.8460517241379311\n",
      "Iteration 1475, Accuracy: 0.8650862068965517\n",
      "Iteration 1480, Accuracy: 0.8636034482758621\n",
      "Iteration 1485, Accuracy: 0.8636379310344827\n",
      "Iteration 1490, Accuracy: 0.8622068965517241\n",
      "Iteration 1495, Accuracy: 0.8604655172413793\n",
      "Iteration 1500, Accuracy: 0.8555689655172414\n",
      "Iteration 1505, Accuracy: 0.8638793103448276\n",
      "Iteration 1510, Accuracy: 0.8614827586206897\n",
      "Iteration 1515, Accuracy: 0.8671206896551724\n",
      "Iteration 1520, Accuracy: 0.8612068965517241\n",
      "Iteration 1525, Accuracy: 0.8659827586206896\n",
      "Iteration 1530, Accuracy: 0.858948275862069\n",
      "Iteration 1535, Accuracy: 0.8672758620689656\n",
      "Iteration 1540, Accuracy: 0.8617586206896551\n",
      "Iteration 1545, Accuracy: 0.8636724137931034\n",
      "Iteration 1550, Accuracy: 0.8443275862068965\n",
      "Iteration 1555, Accuracy: 0.8654827586206897\n",
      "Iteration 1560, Accuracy: 0.8673965517241379\n",
      "Iteration 1565, Accuracy: 0.866103448275862\n",
      "Iteration 1570, Accuracy: 0.8682068965517241\n",
      "Iteration 1575, Accuracy: 0.8630344827586207\n",
      "Iteration 1580, Accuracy: 0.8666724137931034\n",
      "Iteration 1585, Accuracy: 0.8596551724137931\n",
      "Iteration 1590, Accuracy: 0.867448275862069\n",
      "Iteration 1595, Accuracy: 0.8587413793103448\n",
      "Iteration 1600, Accuracy: 0.8666551724137931\n",
      "Iteration 1605, Accuracy: 0.8677586206896551\n",
      "Iteration 1610, Accuracy: 0.8676724137931034\n",
      "Iteration 1615, Accuracy: 0.8686034482758621\n",
      "Iteration 1620, Accuracy: 0.8655172413793103\n",
      "Iteration 1625, Accuracy: 0.8585\n",
      "Iteration 1630, Accuracy: 0.8608965517241379\n",
      "Iteration 1635, Accuracy: 0.860396551724138\n",
      "Iteration 1640, Accuracy: 0.8704310344827586\n",
      "Iteration 1645, Accuracy: 0.8678620689655172\n",
      "Iteration 1650, Accuracy: 0.8711724137931034\n",
      "Iteration 1655, Accuracy: 0.8668965517241379\n",
      "Iteration 1660, Accuracy: 0.8696724137931034\n",
      "Iteration 1665, Accuracy: 0.8465\n",
      "Iteration 1670, Accuracy: 0.8700862068965517\n",
      "Iteration 1675, Accuracy: 0.8698620689655172\n",
      "Iteration 1680, Accuracy: 0.8708275862068966\n",
      "Iteration 1685, Accuracy: 0.8699827586206896\n",
      "Iteration 1690, Accuracy: 0.8645344827586207\n",
      "Iteration 1695, Accuracy: 0.8551206896551724\n",
      "Iteration 1700, Accuracy: 0.8697586206896551\n",
      "Iteration 1705, Accuracy: 0.8687586206896551\n",
      "Iteration 1710, Accuracy: 0.8728965517241379\n",
      "Iteration 1715, Accuracy: 0.8681206896551724\n",
      "Iteration 1720, Accuracy: 0.8717068965517242\n",
      "Iteration 1725, Accuracy: 0.8553620689655173\n",
      "Iteration 1730, Accuracy: 0.8704827586206897\n",
      "Iteration 1735, Accuracy: 0.8707068965517242\n",
      "Iteration 1740, Accuracy: 0.872\n",
      "Iteration 1745, Accuracy: 0.8717586206896552\n",
      "Iteration 1750, Accuracy: 0.8682931034482758\n",
      "Iteration 1755, Accuracy: 0.8630689655172413\n",
      "Iteration 1760, Accuracy: 0.8667068965517242\n",
      "Iteration 1765, Accuracy: 0.864448275862069\n",
      "Iteration 1770, Accuracy: 0.8740517241379311\n",
      "Iteration 1775, Accuracy: 0.8719482758620689\n",
      "Iteration 1780, Accuracy: 0.8748620689655172\n",
      "Iteration 1785, Accuracy: 0.8692758620689656\n",
      "Iteration 1790, Accuracy: 0.8711379310344828\n",
      "Iteration 1795, Accuracy: 0.8496896551724138\n",
      "Iteration 1800, Accuracy: 0.8729482758620689\n",
      "Iteration 1805, Accuracy: 0.8724655172413793\n",
      "Iteration 1810, Accuracy: 0.8730517241379311\n",
      "Iteration 1815, Accuracy: 0.8711551724137931\n",
      "Iteration 1820, Accuracy: 0.8680172413793104\n",
      "Iteration 1825, Accuracy: 0.8555689655172414\n",
      "Iteration 1830, Accuracy: 0.8701724137931034\n",
      "Iteration 1835, Accuracy: 0.873\n",
      "Iteration 1840, Accuracy: 0.8755172413793103\n",
      "Iteration 1845, Accuracy: 0.8734655172413793\n",
      "Iteration 1850, Accuracy: 0.8760172413793104\n",
      "Iteration 1855, Accuracy: 0.866948275862069\n",
      "Iteration 1860, Accuracy: 0.8741034482758621\n",
      "Iteration 1865, Accuracy: 0.8713448275862069\n",
      "Iteration 1870, Accuracy: 0.8764310344827586\n",
      "Iteration 1875, Accuracy: 0.873\n",
      "Iteration 1880, Accuracy: 0.8704827586206897\n",
      "Iteration 1885, Accuracy: 0.8456379310344827\n",
      "Iteration 1890, Accuracy: 0.8744310344827586\n",
      "Iteration 1895, Accuracy: 0.8749827586206896\n",
      "Iteration 1900, Accuracy: 0.8767758620689655\n",
      "Iteration 1905, Accuracy: 0.8717068965517242\n",
      "Iteration 1910, Accuracy: 0.8725172413793103\n",
      "Iteration 1915, Accuracy: 0.8637758620689655\n",
      "Iteration 1920, Accuracy: 0.8758793103448276\n",
      "Iteration 1925, Accuracy: 0.8758103448275862\n",
      "Iteration 1930, Accuracy: 0.8776724137931035\n",
      "Iteration 1935, Accuracy: 0.8747586206896552\n",
      "Iteration 1940, Accuracy: 0.8738620689655172\n",
      "Iteration 1945, Accuracy: 0.8527068965517242\n",
      "Iteration 1950, Accuracy: 0.8766551724137931\n",
      "Iteration 1955, Accuracy: 0.8764310344827586\n",
      "Iteration 1960, Accuracy: 0.8769827586206896\n",
      "Iteration 1965, Accuracy: 0.8749482758620689\n",
      "Iteration 1970, Accuracy: 0.8702068965517241\n",
      "Iteration 1975, Accuracy: 0.8707413793103448\n",
      "Iteration 1980, Accuracy: 0.8766724137931035\n",
      "Iteration 1985, Accuracy: 0.8760862068965517\n",
      "Iteration 1990, Accuracy: 0.8780689655172413\n",
      "Iteration 1995, Accuracy: 0.8567068965517242\n",
      "Iteration 2000, Accuracy: 0.8715689655172414\n",
      "Iteration 2005, Accuracy: 0.8763448275862069\n",
      "Iteration 2010, Accuracy: 0.8786206896551724\n",
      "Iteration 2015, Accuracy: 0.8764655172413793\n",
      "Iteration 2020, Accuracy: 0.8764827586206897\n",
      "Iteration 2025, Accuracy: 0.8699655172413793\n",
      "Iteration 2030, Accuracy: 0.8645689655172414\n",
      "Iteration 2035, Accuracy: 0.8743448275862069\n",
      "Iteration 2040, Accuracy: 0.8748103448275862\n",
      "Iteration 2045, Accuracy: 0.8793620689655173\n",
      "Iteration 2050, Accuracy: 0.8773275862068965\n",
      "Iteration 2055, Accuracy: 0.8796724137931035\n",
      "Iteration 2060, Accuracy: 0.8727241379310345\n",
      "Iteration 2065, Accuracy: 0.8713620689655173\n",
      "Iteration 2070, Accuracy: 0.8689310344827587\n",
      "Iteration 2075, Accuracy: 0.8787586206896552\n",
      "Iteration 2080, Accuracy: 0.8786896551724138\n",
      "Iteration 2085, Accuracy: 0.8767241379310344\n",
      "Iteration 2090, Accuracy: 0.8746724137931035\n",
      "Iteration 2095, Accuracy: 0.8697241379310345\n",
      "Iteration 2100, Accuracy: 0.8728448275862069\n",
      "Iteration 2105, Accuracy: 0.8795\n",
      "Iteration 2110, Accuracy: 0.8759310344827587\n",
      "Iteration 2115, Accuracy: 0.8802413793103449\n",
      "Iteration 2120, Accuracy: 0.872551724137931\n",
      "Iteration 2125, Accuracy: 0.8716206896551724\n",
      "Iteration 2130, Accuracy: 0.8629655172413793\n",
      "Iteration 2135, Accuracy: 0.8794655172413793\n",
      "Iteration 2140, Accuracy: 0.8795344827586207\n",
      "Iteration 2145, Accuracy: 0.8792241379310345\n",
      "Iteration 2150, Accuracy: 0.8780862068965517\n",
      "Iteration 2155, Accuracy: 0.8737758620689655\n",
      "Iteration 2160, Accuracy: 0.8431896551724138\n",
      "Iteration 2165, Accuracy: 0.8773965517241379\n",
      "Iteration 2170, Accuracy: 0.8792758620689655\n",
      "Iteration 2175, Accuracy: 0.8808103448275862\n",
      "Iteration 2180, Accuracy: 0.879\n",
      "Iteration 2185, Accuracy: 0.8808448275862069\n",
      "Iteration 2190, Accuracy: 0.8754827586206897\n",
      "Iteration 2195, Accuracy: 0.8802068965517241\n",
      "Iteration 2200, Accuracy: 0.8761206896551724\n",
      "Iteration 2205, Accuracy: 0.8814827586206897\n",
      "Iteration 2210, Accuracy: 0.8798448275862069\n",
      "Iteration 2215, Accuracy: 0.8813965517241379\n",
      "Iteration 2220, Accuracy: 0.8784310344827586\n",
      "Iteration 2225, Accuracy: 0.8740172413793104\n",
      "Iteration 2230, Accuracy: 0.8661206896551724\n",
      "Iteration 2235, Accuracy: 0.8816551724137931\n",
      "Iteration 2240, Accuracy: 0.8789655172413793\n",
      "Iteration 2245, Accuracy: 0.8796034482758621\n",
      "Iteration 2250, Accuracy: 0.8591206896551724\n",
      "Iteration 2255, Accuracy: 0.8739310344827587\n",
      "Iteration 2260, Accuracy: 0.8797586206896552\n",
      "Iteration 2265, Accuracy: 0.8817586206896552\n",
      "Iteration 2270, Accuracy: 0.8817586206896552\n",
      "Iteration 2275, Accuracy: 0.8807586206896552\n",
      "Iteration 2280, Accuracy: 0.8765689655172414\n",
      "Iteration 2285, Accuracy: 0.8733448275862069\n",
      "Iteration 2290, Accuracy: 0.8672068965517241\n",
      "Iteration 2295, Accuracy: 0.8822931034482758\n",
      "Iteration 2300, Accuracy: 0.8804137931034483\n",
      "Iteration 2305, Accuracy: 0.8825172413793103\n",
      "Iteration 2310, Accuracy: 0.8805689655172414\n",
      "Iteration 2315, Accuracy: 0.8821379310344828\n",
      "Iteration 2320, Accuracy: 0.8716551724137931\n",
      "Iteration 2325, Accuracy: 0.8748448275862069\n",
      "Iteration 2330, Accuracy: 0.8759827586206896\n",
      "Iteration 2335, Accuracy: 0.8793103448275862\n",
      "Iteration 2340, Accuracy: 0.8744827586206897\n",
      "Iteration 2345, Accuracy: 0.8810344827586207\n",
      "Iteration 2350, Accuracy: 0.882896551724138\n",
      "Iteration 2355, Accuracy: 0.8824137931034483\n",
      "Iteration 2360, Accuracy: 0.8832586206896552\n",
      "Iteration 2365, Accuracy: 0.8788793103448276\n",
      "Iteration 2370, Accuracy: 0.8783275862068965\n",
      "Iteration 2375, Accuracy: 0.8753275862068965\n",
      "Iteration 2380, Accuracy: 0.8832241379310345\n",
      "Iteration 2385, Accuracy: 0.8818103448275862\n",
      "Iteration 2390, Accuracy: 0.8808793103448276\n",
      "Iteration 2395, Accuracy: 0.8157413793103448\n",
      "Iteration 2400, Accuracy: 0.8512758620689655\n",
      "Iteration 2405, Accuracy: 0.8737241379310344\n",
      "Iteration 2410, Accuracy: 0.8768620689655172\n",
      "Iteration 2415, Accuracy: 0.8793103448275862\n",
      "Iteration 2420, Accuracy: 0.8793448275862069\n",
      "Iteration 2425, Accuracy: 0.8816551724137931\n",
      "Iteration 2430, Accuracy: 0.8795862068965518\n",
      "Iteration 2435, Accuracy: 0.8826206896551724\n",
      "Iteration 2440, Accuracy: 0.8798275862068966\n"
     ]
    },
    {
     "ename": "KeyboardInterrupt",
     "evalue": "",
     "output_type": "error",
     "traceback": [
      "\u001b[1;31m---------------------------------------------------------------------------\u001b[0m",
      "\u001b[1;31mKeyboardInterrupt\u001b[0m                         Traceback (most recent call last)",
      "Cell \u001b[1;32mIn[514], line 1\u001b[0m\n\u001b[1;32m----> 1\u001b[0m W1, b1, W2, b2,W3,b3, accuracy_scores \u001b[38;5;241m=\u001b[39m \u001b[43mgradient_descent\u001b[49m\u001b[43m(\u001b[49m\u001b[43mX_train\u001b[49m\u001b[43m,\u001b[49m\u001b[43m \u001b[49m\u001b[43mY_train\u001b[49m\u001b[43m,\u001b[49m\u001b[43m \u001b[49m\u001b[43mlearning_rate\u001b[49m\u001b[43m,\u001b[49m\u001b[43m \u001b[49m\u001b[43mnum_iterations\u001b[49m\u001b[43m)\u001b[49m\n",
      "Cell \u001b[1;32mIn[462], line 11\u001b[0m, in \u001b[0;36mgradient_descent\u001b[1;34m(X_train, Y_train, learning_rate, num_iterations)\u001b[0m\n\u001b[0;32m      7\u001b[0m accuracy_scores \u001b[38;5;241m=\u001b[39m []\n\u001b[0;32m      9\u001b[0m \u001b[38;5;28;01mfor\u001b[39;00m i \u001b[38;5;129;01min\u001b[39;00m \u001b[38;5;28mrange\u001b[39m(num_iterations):\n\u001b[0;32m     10\u001b[0m     \u001b[38;5;66;03m# Forward Propagation\u001b[39;00m\n\u001b[1;32m---> 11\u001b[0m     Z1, A1, Z2, A2,Z3,A3 \u001b[38;5;241m=\u001b[39m \u001b[43mforward_propagation\u001b[49m\u001b[43m(\u001b[49m\u001b[43mX_train\u001b[49m\u001b[43m,\u001b[49m\u001b[43m \u001b[49m\u001b[43mW1\u001b[49m\u001b[43m,\u001b[49m\u001b[43m \u001b[49m\u001b[43mb1\u001b[49m\u001b[43m,\u001b[49m\u001b[43m \u001b[49m\u001b[43mW2\u001b[49m\u001b[43m,\u001b[49m\u001b[43m \u001b[49m\u001b[43mb2\u001b[49m\u001b[43m,\u001b[49m\u001b[43mW3\u001b[49m\u001b[43m,\u001b[49m\u001b[43mb3\u001b[49m\u001b[43m,\u001b[49m\u001b[43mlearning_rate\u001b[49m\u001b[43m)\u001b[49m\n\u001b[0;32m     12\u001b[0m     \u001b[38;5;66;03m#print(A3)\u001b[39;00m\n\u001b[0;32m     13\u001b[0m     \u001b[38;5;66;03m# Backward Propagation\u001b[39;00m\n\u001b[0;32m     14\u001b[0m     dW1, db1, dW2, db2,dW3,db3 \u001b[38;5;241m=\u001b[39m backward_propagation(Z1, A1, Z2, A2, Z3 , A3,W1,W2,W3, X_train, Y_train,learning_rate)\n",
      "Cell \u001b[1;32mIn[447], line 3\u001b[0m, in \u001b[0;36mforward_propagation\u001b[1;34m(X, W_1, B_1, W_2, B_2, W3, B3, alpha)\u001b[0m\n\u001b[0;32m      1\u001b[0m \u001b[38;5;28;01mdef\u001b[39;00m \u001b[38;5;21mforward_propagation\u001b[39m(X,W_1,B_1,W_2,B_2,W3,B3,alpha):\n\u001b[0;32m      2\u001b[0m     Z_1 \u001b[38;5;241m=\u001b[39m np\u001b[38;5;241m.\u001b[39mdot(W_1,X)\u001b[38;5;241m+\u001b[39m B_1\n\u001b[1;32m----> 3\u001b[0m     A1  \u001b[38;5;241m=\u001b[39m \u001b[43mLeakyRelu\u001b[49m\u001b[43m(\u001b[49m\u001b[43mZ_1\u001b[49m\u001b[43m,\u001b[49m\u001b[43malpha\u001b[49m\u001b[43m)\u001b[49m\n\u001b[0;32m      4\u001b[0m     Z_2 \u001b[38;5;241m=\u001b[39m np\u001b[38;5;241m.\u001b[39mdot(W_2,A1)\u001b[38;5;241m+\u001b[39m B_2\n\u001b[0;32m      5\u001b[0m     A2  \u001b[38;5;241m=\u001b[39m tanh(Z_2)\n",
      "Cell \u001b[1;32mIn[439], line 12\u001b[0m, in \u001b[0;36mLeakyRelu\u001b[1;34m(Z, alpha)\u001b[0m\n\u001b[0;32m      1\u001b[0m \u001b[38;5;28;01mdef\u001b[39;00m \u001b[38;5;21mLeakyRelu\u001b[39m(Z,alpha):\n\u001b[0;32m      2\u001b[0m     \u001b[38;5;124;03m\"\"\"\u001b[39;00m\n\u001b[0;32m      3\u001b[0m \u001b[38;5;124;03m    Compute the Leaky ReLU activation.\u001b[39;00m\n\u001b[0;32m      4\u001b[0m \n\u001b[1;32m   (...)\u001b[0m\n\u001b[0;32m     10\u001b[0m \u001b[38;5;124;03m    A -- The Leaky ReLU activation of Z.\u001b[39;00m\n\u001b[0;32m     11\u001b[0m \u001b[38;5;124;03m    \"\"\"\u001b[39;00m\n\u001b[1;32m---> 12\u001b[0m     A \u001b[38;5;241m=\u001b[39m \u001b[43mnp\u001b[49m\u001b[38;5;241;43m.\u001b[39;49m\u001b[43mmaximum\u001b[49m\u001b[43m(\u001b[49m\u001b[43malpha\u001b[49m\u001b[43m \u001b[49m\u001b[38;5;241;43m*\u001b[39;49m\u001b[43m \u001b[49m\u001b[43mZ\u001b[49m\u001b[43m,\u001b[49m\u001b[43m \u001b[49m\u001b[43mZ\u001b[49m\u001b[43m)\u001b[49m\n\u001b[0;32m     13\u001b[0m     \u001b[38;5;28;01mreturn\u001b[39;00m A\n",
      "\u001b[1;31mKeyboardInterrupt\u001b[0m: "
     ]
    }
   ],
   "source": [
    "W1, b1, W2, b2,W3,b3, accuracy_scores = gradient_descent(X_train, Y_train, learning_rate, num_iterations)"
   ]
  },
  {
   "cell_type": "code",
   "execution_count": null,
   "metadata": {
    "id": "WHrB_JyNvFrs",
    "tags": []
   },
   "outputs": [
    {
     "data": {
      "image/png": "[encoded data removed]",
      "text/plain": [
       "<Figure size 640x480 with 1 Axes>"
      ]
     },
     "metadata": {},
     "output_type": "display_data"
    }
   ],
   "source": [
    "x_value= np.array(accuracy_scores).T[0]\n",
    "y_value= np.array(accuracy_scores).T[1]\n",
    "\n",
    "plt.plot(x_value, y_value)\n",
    "plt.title(\"Accuracy curve\")\n",
    "plt.xlabel(\"iterations\")\n",
    "plt.ylabel(\"Accuracy\")\n",
    "plt.grid(True)\n",
    "#plt.savefig(\"AccuracycurverandominiL2xx60k\")\n",
    "plt.show()"
   ]
  },
  {
   "cell_type": "code",
   "execution_count": null,
   "metadata": {
    "id": "xkeXBTB8hZJJ"
   },
   "outputs": [],
   "source": []
  },
  {
   "cell_type": "code",
   "execution_count": null,
   "metadata": {
    "id": "lUG4F57khZFk"
   },
   "outputs": [],
   "source": []
  },
  {
   "cell_type": "code",
   "execution_count": null,
   "metadata": {
    "id": "vWgh-PeUhZC_"
   },
   "outputs": [],
   "source": []
  },
  {
   "cell_type": "code",
   "execution_count": null,
   "metadata": {
    "id": "5K19L7x3hY9H"
   },
   "outputs": [],
   "source": []
  },
  {
   "cell_type": "code",
   "execution_count": null,
   "metadata": {
    "id": "aXazvsP7Q0im"
   },
   "outputs": [],
   "source": []
  },
  {
   "cell_type": "code",
   "execution_count": null,
   "metadata": {
    "id": "NQSzJ_hHQ0kz"
   },
   "outputs": [],
   "source": []
  },
  {
   "cell_type": "code",
   "execution_count": null,
   "metadata": {
    "id": "HquIlIUjQ0m_"
   },
   "outputs": [],
   "source": []
  },
  {
   "cell_type": "code",
   "execution_count": null,
   "metadata": {
    "id": "M_r7dfv8Q0qg"
   },
   "outputs": [],
   "source": []
  },
  {
   "cell_type": "code",
   "execution_count": null,
   "metadata": {},
   "outputs": [],
   "source": []
  }
 ],
 "metadata": {
  "colab": {
   "provenance": []
  },
  "kernelspec": {
   "display_name": "Python 3 (ipykernel)",
   "language": "python",
   "name": "python3"
  },
  "language_info": {
   "codemirror_mode": {
    "name": "ipython",
    "version": 3
   },
   "file_extension": ".py",
   "mimetype": "text/x-python",
   "name": "python",
   "nbconvert_exporter": "python",
   "pygments_lexer": "ipython3",
   "version": "3.10.9"
  }
 },
 "nbformat": 4,
 "nbformat_minor": 4
}
